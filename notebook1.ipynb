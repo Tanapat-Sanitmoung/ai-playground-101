{
 "cells": [
  {
   "cell_type": "code",
   "execution_count": 1,
   "id": "06965042",
   "metadata": {},
   "outputs": [],
   "source": [
    "from pythainlp.tokenize import sent_tokenize"
   ]
  },
  {
   "cell_type": "code",
   "execution_count": 2,
   "id": "0a289015",
   "metadata": {},
   "outputs": [],
   "source": [
    "with open(\"docs/notebook1.txt\") as f:\n",
    "    text = f.read()"
   ]
  },
  {
   "cell_type": "code",
   "execution_count": 3,
   "id": "ec62bf65",
   "metadata": {},
   "outputs": [
    {
     "name": "stdout",
     "output_type": "stream",
     "text": [
      "Total sentences :=  9\n"
     ]
    }
   ],
   "source": [
    "output = sent_tokenize(text, engine=\"thaisum\", keep_whitespace=False)\n",
    "\n",
    "print(\"Total sentences := \", len(output))"
   ]
  },
  {
   "cell_type": "code",
   "execution_count": 4,
   "id": "c7ead3f3",
   "metadata": {},
   "outputs": [
    {
     "data": {
      "text/plain": [
       "['นิทานก่อนนอนเรื่อง “ลูกหมูสามตัว” เป็นนิทานอมตะที่เด็ก ๆ ทั่วโลกน่าจะรู้จักกันเป็นอย่างดี นิทานเรื่องลูกหมูสามตัว เป็นนิทานพื้นบ้านเก่าแก่ที่เล่ากันมานาน',\n",
       " 'โดยไม่ทราบชื่อผู้แต่ง จนกระทั่งวันหนึ่ง นิทานเรื่องนี้ได้รับการนำมาเขียนเล่า',\n",
       " 'และพิมพ์เป็นครั้งแรกในช่วงปีค.ศ. 1840',\n",
       " 'หลังจากนั้น นิทานก่อนนอนเรื่องลูกหมูสามตัวก็ได้รับความนิยมเพิ่มขึ้น',\n",
       " 'และมีการนำมาเล่าใหม่ด้วยลีลาการบรรยายของนักเขียนอีกมากมายจากทั่วโลก',\n",
       " 'ซึ่งนิทานเรื่องลูกหมูสามตัวที่ผมนำมา “เล่าใหม่” นี้ ก็เป็นลูกหมูสามตัวในแบบ “นิทานนำบุญ” ที่ยังคงรักษาความดีของนิทานต้นฉบับ',\n",
       " 'แต่หาทางหลีกเลี่ยงฉากรุนแรงต่าง ๆ',\n",
       " 'โดยเฉพาะในตอนท้ายเรื่อง',\n",
       " 'เพื่อให้นิทานเรื่องนี้ เป็นนิทานก่อนนอนที่คุณพ่อคุณแม่นำมาเล่าให้ลูก ๆ ฟังได้อย่างสบายใจ']"
      ]
     },
     "execution_count": 4,
     "metadata": {},
     "output_type": "execute_result"
    }
   ],
   "source": [
    "output"
   ]
  }
 ],
 "metadata": {
  "kernelspec": {
   "display_name": ".venv",
   "language": "python",
   "name": "python3"
  },
  "language_info": {
   "codemirror_mode": {
    "name": "ipython",
    "version": 3
   },
   "file_extension": ".py",
   "mimetype": "text/x-python",
   "name": "python",
   "nbconvert_exporter": "python",
   "pygments_lexer": "ipython3",
   "version": "3.10.17"
  }
 },
 "nbformat": 4,
 "nbformat_minor": 5
}
